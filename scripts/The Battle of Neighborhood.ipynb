{
 "cells": [
  {
   "cell_type": "markdown",
   "metadata": {},
   "source": [
    "# Where Should I Move To? Introduction\n",
    "One of the biggest struggles when moving into a new city is deciding which neighborhood to move to. \n",
    "This project will target the audience that would be interested in moving to New York City, who lack knowledge in neighborhoods and will assist on recommending which neighborhood is the most suitable for the client based on user's preference."
   ]
  },
  {
   "cell_type": "markdown",
   "metadata": {},
   "source": [
    "# Process\n",
    "This will be done by using the List of New York City Neighborhood from NYU and Foursquare.\n",
    "\n",
    "Steps that will be taken:\n",
    "1. Extract NYC Neighborhood data from NYU and join with venue data from FourSquare.\n",
    "2. Apply ratings and likes data from FourSquare and group the average by venue category per Neighborhood.\n",
    "3. Create lists per Neighbor hood with top 10~20 (Not Confirmed) rated/liked venue categories.\n",
    "4. User will select 5-10(Not Confirmed) venue categories that is the most important for them.\n",
    "5. User preference data will be used as a benchmark to determine which neighborhood is the most suitable for the client."
   ]
  },
  {
   "cell_type": "code",
   "execution_count": null,
   "metadata": {},
   "outputs": [],
   "source": []
  }
 ],
 "metadata": {
  "kernelspec": {
   "display_name": "Python 3",
   "language": "python",
   "name": "python3"
  },
  "language_info": {
   "codemirror_mode": {
    "name": "ipython",
    "version": 3
   },
   "file_extension": ".py",
   "mimetype": "text/x-python",
   "name": "python",
   "nbconvert_exporter": "python",
   "pygments_lexer": "ipython3",
   "version": "3.8.5"
  }
 },
 "nbformat": 4,
 "nbformat_minor": 4
}
